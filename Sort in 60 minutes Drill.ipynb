{
 "cells": [
  {
   "cell_type": "code",
   "execution_count": 1,
   "metadata": {},
   "outputs": [],
   "source": [
    "import time\n",
    "import random\n",
    "\n",
    "# Set seed.\n",
    "random.seed(a=100)\n",
    "\n",
    "# Create our default list.\n",
    "short_list = list(random.sample(range(1000000), 10))\n",
    "long_list = list(random.sample(range(1000000), 10000))"
   ]
  },
  {
   "cell_type": "markdown",
   "metadata": {},
   "source": [
    "## Insertion Sort"
   ]
  },
  {
   "cell_type": "code",
   "execution_count": 2,
   "metadata": {},
   "outputs": [],
   "source": [
    "def insert_sort(input_list):\n",
    "    # Copy the input to a new list so we don't modify the original.\n",
    "    new_list = input_list\n",
    "    \n",
    "    # Iterate through the list.\n",
    "    for i in range(len(new_list)):\n",
    "        # Assign place to a new variable.\n",
    "        j = i\n",
    "        \n",
    "        # Move through the list as long as the previous position is larger\n",
    "        # than the current element of list.\n",
    "        while j > 0 and new_list[j - 1] > new_list[j]:\n",
    "            \n",
    "            # Swap places.\n",
    "            new_list[j - 1], new_list[j] = new_list[j], new_list[j - 1]\n",
    "            \n",
    "            # Reduce j by one.\n",
    "            j = j - 1\n",
    "    return new_list"
   ]
  },
  {
   "cell_type": "code",
   "execution_count": 3,
   "metadata": {},
   "outputs": [
    {
     "name": "stdout",
     "output_type": "stream",
     "text": [
      "--- 0.0 seconds ---\n",
      "[152745, 183236, 366725, 412125, 477025, 481850, 739784, 767514, 808225, 997948]\n"
     ]
    }
   ],
   "source": [
    "# Start the timer.\n",
    "start_time = time.time()\n",
    "\n",
    "# Run our insertion sort.\n",
    "insert_sort(short_list)\n",
    "\n",
    "# Print time to show runtime.\n",
    "print(\"--- %s seconds ---\" % (time.time() - start_time))\n",
    "print(insert_sort(short_list))"
   ]
  },
  {
   "cell_type": "code",
   "execution_count": 4,
   "metadata": {},
   "outputs": [
    {
     "name": "stdout",
     "output_type": "stream",
     "text": [
      "--- 39.99012875556946 seconds ---\n"
     ]
    }
   ],
   "source": [
    "# Test on the long list.\n",
    "start_time = time.time()\n",
    "\n",
    "insert_sort(long_list)\n",
    "\n",
    "print(\"--- %s seconds ---\" % (time.time() - start_time))"
   ]
  },
  {
   "cell_type": "markdown",
   "metadata": {},
   "source": [
    "## Merge Sort"
   ]
  },
  {
   "cell_type": "code",
   "execution_count": 5,
   "metadata": {},
   "outputs": [],
   "source": [
    "# Our merge function takes two ordered lists and merges them together into one ordered list\n",
    "\n",
    "def merge(a, b):\n",
    "    # Check for empty list.\n",
    "    if len(a) == 0 or len(b) == 0:\n",
    "        return a or b\n",
    "    \n",
    "    # Start with an empty result.\n",
    "    result = []\n",
    "    # Track two indexes.\n",
    "    i, j = 0, 0\n",
    "    # Set a while condition to ensure we iterate only for the length of our two lists.\n",
    "    while (len(result) < len(a) + len(b)):\n",
    "        # If a's next element is lower append that element to our result.\n",
    "        if a[i] < b[j]:\n",
    "            result.append(a[i])\n",
    "            i += 1\n",
    "        # Otherwise append b's next element.\n",
    "        else:\n",
    "            result.append(b[j])\n",
    "            j += 1\n",
    "        # When one list is empty just append everything from the other list and stop.\n",
    "        if i == len(a) or j == len(b):\n",
    "            result.extend(a[i:] or b[j:])\n",
    "            break \n",
    "\n",
    "    return result\n",
    "\n",
    "def merge_sort(lst):\n",
    "    if len(lst) < 2:\n",
    "        return lst\n",
    "\n",
    "    mid = int(len(lst) / 2)\n",
    "    a = merge_sort(lst[:mid])\n",
    "    b = merge_sort(lst[mid:])\n",
    "\n",
    "    return merge(a, b)"
   ]
  },
  {
   "cell_type": "code",
   "execution_count": 6,
   "metadata": {},
   "outputs": [
    {
     "name": "stdout",
     "output_type": "stream",
     "text": [
      "--- 0.0 seconds ---\n",
      "[152745, 183236, 366725, 412125, 477025, 481850, 739784, 767514, 808225, 997948]\n"
     ]
    }
   ],
   "source": [
    "# Test on short list.\n",
    "# Start timer.\n",
    "start_time = time.time()\n",
    "\n",
    "# Run our insertion sort.\n",
    "merge_sort(short_list)\n",
    "\n",
    "# Print time to show runtime.\n",
    "print(\"--- %s seconds ---\" % (time.time() - start_time))\n",
    "print(insert_sort(short_list))"
   ]
  },
  {
   "cell_type": "code",
   "execution_count": 7,
   "metadata": {},
   "outputs": [
    {
     "name": "stdout",
     "output_type": "stream",
     "text": [
      "--- 0.3008286952972412 seconds ---\n"
     ]
    }
   ],
   "source": [
    "# Test on long list.\n",
    "start_time = time.time()\n",
    "\n",
    "merge_sort(long_list)\n",
    "\n",
    "print(\"--- %s seconds ---\" % (time.time() - start_time))"
   ]
  },
  {
   "cell_type": "markdown",
   "metadata": {},
   "source": [
    "## The Default Sort Method"
   ]
  },
  {
   "cell_type": "code",
   "execution_count": 9,
   "metadata": {},
   "outputs": [
    {
     "name": "stdout",
     "output_type": "stream",
     "text": [
      "--- 0.00099945068359375 seconds ---\n"
     ]
    }
   ],
   "source": [
    "# Start Timer\n",
    "start_time = time.time()\n",
    "\n",
    "# Sort the default list. Note that .sort() will sort in place, which would alter default_list.\n",
    "sorted(long_list)\n",
    "\n",
    "# Print time to show runtime\n",
    "print(\"--- %s seconds ---\" % (time.time() - start_time))"
   ]
  },
  {
   "cell_type": "markdown",
   "metadata": {},
   "source": [
    "## Selection Sort"
   ]
  },
  {
   "cell_type": "code",
   "execution_count": 10,
   "metadata": {},
   "outputs": [],
   "source": [
    "def selection(lst): \n",
    "    for i in range(len(lst)):\n",
    "        min_i = i\n",
    "        for j in range(i+1, len(lst)):\n",
    "            if lst[min_i] > lst[j]:\n",
    "                min_i = j\n",
    "        lst[i], lst[min_i] = lst[min_i], lst[i]\n",
    "    return(lst)"
   ]
  },
  {
   "cell_type": "code",
   "execution_count": 11,
   "metadata": {},
   "outputs": [
    {
     "name": "stdout",
     "output_type": "stream",
     "text": [
      "--- 0.0 seconds ---\n",
      "[152745, 183236, 366725, 412125, 477025, 481850, 739784, 767514, 808225, 997948]\n"
     ]
    }
   ],
   "source": [
    "# Test on short list.\n",
    "# Start timer.\n",
    "start_time = time.time()\n",
    "\n",
    "# Run our insertion sort.\n",
    "selection(short_list)\n",
    "\n",
    "# Print time to show runtime.\n",
    "print(\"--- %s seconds ---\" % (time.time() - start_time))\n",
    "print(insert_sort(short_list))"
   ]
  },
  {
   "cell_type": "code",
   "execution_count": 12,
   "metadata": {},
   "outputs": [
    {
     "name": "stdout",
     "output_type": "stream",
     "text": [
      "--- 18.762268543243408 seconds ---\n"
     ]
    }
   ],
   "source": [
    "# Test on long list.\n",
    "start_time = time.time()\n",
    "\n",
    "selection(long_list)\n",
    "\n",
    "print(\"--- %s seconds ---\" % (time.time() - start_time))"
   ]
  },
  {
   "cell_type": "markdown",
   "metadata": {},
   "source": [
    "The best sorting method is the built in sorted function. Slection Sort is faster compare to Insertion sort but much slower if it si compared to merge sort. "
   ]
  }
 ],
 "metadata": {
  "kernelspec": {
   "display_name": "Python 3",
   "language": "python",
   "name": "python3"
  },
  "language_info": {
   "codemirror_mode": {
    "name": "ipython",
    "version": 3
   },
   "file_extension": ".py",
   "mimetype": "text/x-python",
   "name": "python",
   "nbconvert_exporter": "python",
   "pygments_lexer": "ipython3",
   "version": "3.7.3"
  }
 },
 "nbformat": 4,
 "nbformat_minor": 2
}
